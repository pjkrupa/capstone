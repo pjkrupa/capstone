{
 "cells": [
  {
   "cell_type": "code",
   "execution_count": 1,
   "id": "6b8228c8",
   "metadata": {},
   "outputs": [],
   "source": [
    "from settings import Settings"
   ]
  },
  {
   "cell_type": "code",
   "execution_count": null,
   "id": "35e212aa",
   "metadata": {},
   "outputs": [],
   "source": [
    "%env PG_PASSWORD=higgybig"
   ]
  },
  {
   "cell_type": "code",
   "execution_count": null,
   "id": "0e045c50",
   "metadata": {},
   "outputs": [],
   "source": [
    "!echo $PG_PASSWORD"
   ]
  },
  {
   "cell_type": "code",
   "execution_count": 2,
   "id": "4325844b",
   "metadata": {},
   "outputs": [],
   "source": [
    "settings = Settings()"
   ]
  },
  {
   "cell_type": "code",
   "execution_count": 4,
   "id": "a29966e8",
   "metadata": {},
   "outputs": [
    {
     "name": "stdout",
     "output_type": "stream",
     "text": [
      "\n"
     ]
    }
   ],
   "source": [
    "print(settings.pg_password)"
   ]
  }
 ],
 "metadata": {
  "kernelspec": {
   "display_name": "Python (data_projects)",
   "language": "python",
   "name": "data_projects-env"
  },
  "language_info": {
   "codemirror_mode": {
    "name": "ipython",
    "version": 3
   },
   "file_extension": ".py",
   "mimetype": "text/x-python",
   "name": "python",
   "nbconvert_exporter": "python",
   "pygments_lexer": "ipython3",
   "version": "3.12.3"
  }
 },
 "nbformat": 4,
 "nbformat_minor": 5
}
