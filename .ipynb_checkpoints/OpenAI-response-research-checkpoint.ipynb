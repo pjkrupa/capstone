{
 "cells": [
  {
   "cell_type": "code",
   "execution_count": 7,
   "id": "a7f50f1b-e9a0-4601-bb65-1d1f339decf0",
   "metadata": {},
   "outputs": [],
   "source": [
    "import psycopg2, pprint, json"
   ]
  },
  {
   "cell_type": "code",
   "execution_count": 60,
   "id": "798efa18-f50d-4a35-b42d-0579096f165b",
   "metadata": {},
   "outputs": [
    {
     "name": "stdout",
     "output_type": "stream",
     "text": [
      "<class 'tuple'>\n",
      "({'id': 'chatcmpl-C14rpxQ9dpI1KepAcxCuJsjCQIaLU', 'model': 'gpt-4o-2024-08-06', 'usage': {'total_tokens': 1261, 'prompt_tokens': 1064, 'completion_tokens': 197, 'prompt_tokens_details': {'text_tokens': None, 'audio_tokens': 0, 'image_tokens': None, 'cached_tokens': 1024}, 'completion_tokens_details': {'audio_tokens': 0, 'reasoning_tokens': 0, 'accepted_prediction_tokens': 0, 'rejected_prediction_tokens': 0}}, 'object': 'chat.completion', 'choices': [{'index': 0, 'message': {'role': 'assistant', 'content': None, 'tool_calls': [{'id': 'call_0Thw9tsRPrOcLMsLqEw9qUQU', 'type': 'function', 'function': {'name': 'populate_patient_record', 'arguments': '{\"medical_record_number\":\"123456789\",\"name\":\"John Doe\",\"age\":72,\"weight\":202,\"blood_pressure\":\"126/72\",\"date_admitted\":\"2050-07-01\",\"date_discharged\":\"2050-07-03\",\"attending_physician\":\"Dr. Will Teachwell\",\"diagnosis\":\"Left-sided systolic congestive heart failure\",\"other_diagnosis\":[\"Type 2 Diabetes\",\"Stage 2 Hypertension\",\"Osteoarthritis\"],\"current_medications\":[\"Metorolol 50 mg PO BID\",\"Lisinopril 40 mg PO qd\",\"ASA 81 mg PO qd\",\"Furosemide 40 mg PO BID\",\"Spironolactone 50 mg PO qd\",\"Metformin 1000 mg PO BID\",\"Glipizide 10 mg PO BID\",\"Tylenol 325 mg PO q 4 hours as needed for pain\"]}'}}], 'annotations': [], 'function_call': None}, 'finish_reason': 'tool_calls', 'provider_specific_fields': {}}], 'created': 1754373073, 'service_tier': 'default', 'system_fingerprint': 'fp_07871e2ad8'},)\n",
      "------------------------------\n",
      "<class 'tuple'>\n",
      "({'id': 'chatcmpl-C16Xp7YEo4kWAMSGwjB9FBlpRMRAz', 'model': 'gpt-4o-2024-08-06', 'usage': {'total_tokens': 1230, 'prompt_tokens': 1064, 'completion_tokens': 166, 'prompt_tokens_details': {'text_tokens': None, 'audio_tokens': 0, 'image_tokens': None, 'cached_tokens': 0}, 'completion_tokens_details': {'audio_tokens': 0, 'reasoning_tokens': 0, 'accepted_prediction_tokens': 0, 'rejected_prediction_tokens': 0}}, 'object': 'chat.completion', 'choices': [{'index': 0, 'message': {'role': 'assistant', 'content': None, 'tool_calls': [{'id': 'call_eKvlXC6yzzlV6LQP73UZsv5a', 'type': 'function', 'function': {'name': 'populate_patient_record', 'arguments': '{\"medical_record_number\":\"123456789\",\"name\":\"John Doe\",\"age\":72,\"date_admitted\":\"2050-07-01\",\"date_discharged\":\"2050-07-03\",\"attending_physician\":\"Dr. Will Teachwell\",\"diagnosis\":\"Left-sided systolic congestive heart failure\",\"other_diagnosis\":[\"Type 2 Diabetes\",\"Stage 2 Hypertension\",\"Osteoarthritis\"],\"current_medications\":[\"ASA 81 mg PO qd\",\"Furosemide 40 mg PO BID\",\"Spironolactone 50 mg PO qd\",\"Metformin 1000 mg PO BID\",\"Glipizide 10 mg PO BID\",\"Tylenol 325 mg PO q 4 hours as needed for pain\"]}'}}], 'annotations': [], 'function_call': None}, 'finish_reason': 'tool_calls', 'provider_specific_fields': {}}], 'created': 1754379521, 'service_tier': 'default', 'system_fingerprint': 'fp_07871e2ad8'},)\n",
      "------------------------------\n",
      "<class 'tuple'>\n",
      "({'id': 'chatcmpl-C16XtTzGWTiRlGgoiZHjiNq8TFN76', 'model': 'gpt-4o-2024-08-06', 'usage': {'total_tokens': 1250, 'prompt_tokens': 1064, 'completion_tokens': 186, 'prompt_tokens_details': {'text_tokens': None, 'audio_tokens': 0, 'image_tokens': None, 'cached_tokens': 1024}, 'completion_tokens_details': {'audio_tokens': 0, 'reasoning_tokens': 0, 'accepted_prediction_tokens': 0, 'rejected_prediction_tokens': 0}}, 'object': 'chat.completion', 'choices': [{'index': 0, 'message': {'role': 'assistant', 'content': None, 'tool_calls': [{'id': 'call_gBlF5sTfKmfYeAQQ1smd6G5H', 'type': 'function', 'function': {'name': 'populate_patient_record', 'arguments': '{\"medical_record_number\":\"123456789\",\"name\":\"John Doe\",\"age\":72,\"date_admitted\":\"2050-07-01\",\"date_discharged\":\"2050-07-03\",\"attending_physician\":\"Dr. Will Teachwell\",\"diagnosis\":\"Left-sided systolic congestive heart failure\",\"other_diagnosis\":[\"Type 2 Diabetes\",\"Stage 2 Hypertension\",\"Osteoarthritis\"],\"current_medications\":[\"Metorolol 50 mg PO BID\",\"Lisinopril 40 mg PO qd\",\"ASA 81 mg PO qd\",\"Furosemide 40 mg PO BID\",\"Spironolactone 50 mg PO qd\",\"Metformin 1000 mg PO BID\",\"Glipizide 10 mg PO BID\",\"Tylenol 325 mg PO q 4 hours as needed for pain\"]}'}}], 'annotations': [], 'function_call': None}, 'finish_reason': 'tool_calls', 'provider_specific_fields': {}}], 'created': 1754379525, 'service_tier': 'default', 'system_fingerprint': 'fp_07871e2ad8'},)\n",
      "------------------------------\n",
      "<class 'tuple'>\n",
      "({'id': 'chatcmpl-C16qSVTqvYnAOxRdpq2wJmWVpTUCz', 'model': 'gpt-4o-2024-08-06', 'usage': {'total_tokens': 1241, 'prompt_tokens': 1074, 'completion_tokens': 167, 'prompt_tokens_details': {'text_tokens': None, 'audio_tokens': 0, 'image_tokens': None, 'cached_tokens': 0}, 'completion_tokens_details': {'audio_tokens': 0, 'reasoning_tokens': 0, 'accepted_prediction_tokens': 0, 'rejected_prediction_tokens': 0}}, 'object': 'chat.completion', 'choices': [{'index': 0, 'message': {'role': 'assistant', 'content': None, 'tool_calls': [{'id': 'call_ywjAiBZYfSHboURWAoOn9gsq', 'type': 'function', 'function': {'name': 'populate_patient_record', 'arguments': '{\"medical_record_number\":\"123456789\",\"name\":\"John Doe\",\"age\":72,\"date_admitted\":\"2050-07-01\",\"date_discharged\":\"2050-07-03\",\"attending_physician\":\"Dr. Will Teachwell\",\"diagnosis\":\"Left-sided systolic congestive heart failure\",\"other_diagnosis\":[\"Type 2 Diabetes\",\"Stage 2 Hypertension\",\"Osteoarthritis\"],\"current_medications\":[\"ASA 81 mg PO qd\",\"Furosemide 40 mg PO BID\",\"Spironolactone 50 mg PO qd\",\"Metformin 1000 mg PO BID\",\"Glipizide 10 mg PO BID\",\"Tylenol 325 mg PO q 4 hours as needed for pain\"],\"weight\":202,\"blood_pressure\":\"126/72\"}'}}], 'annotations': [], 'function_call': None}, 'finish_reason': 'tool_calls', 'provider_specific_fields': {}}], 'created': 1754380676, 'service_tier': 'default', 'system_fingerprint': 'fp_07871e2ad8'},)\n",
      "------------------------------\n",
      "<class 'tuple'>\n",
      "({'id': 'chatcmpl-C2hg03SKpEcyxXyD5j9yHqIWj5K18', 'model': 'gpt-4o-2024-08-06', 'usage': {'total_tokens': 1298, 'prompt_tokens': 1101, 'completion_tokens': 197, 'prompt_tokens_details': {'text_tokens': None, 'audio_tokens': 0, 'image_tokens': None, 'cached_tokens': 0}, 'completion_tokens_details': {'text_tokens': None, 'audio_tokens': 0, 'reasoning_tokens': 0, 'accepted_prediction_tokens': 0, 'rejected_prediction_tokens': 0}}, 'object': 'chat.completion', 'choices': [{'index': 0, 'message': {'role': 'assistant', 'content': None, 'tool_calls': [{'id': 'call_hJOWZXJjtj6VMs5EYhRAthBS', 'type': 'function', 'function': {'name': 'patient_record', 'arguments': '{\"medical_record_number\":\"123456789\",\"name\":\"John Doe\",\"age\":72,\"weight\":202,\"blood_pressure\":\"142/82\",\"date_admitted\":\"2050-07-01T00:00:00\",\"date_discharged\":\"2050-07-03T00:00:00\",\"attending_physician\":\"Dr. Will Teachwell\",\"diagnosis\":\"Left-sided systolic congestive heart failure\",\"other_diagnosis\":\"Type 2 Diabetes, Stage 2 Hypertension, Osteoarthritis\",\"current_medications\":[\"Metorolol 50 mg PO BID\",\"Lisinopril 40 mg PO qd\",\"ASA 81 mg PO qd\",\"Furosemide 40 mg PO BID\",\"Spironolactone 50 mg PO qd\",\"Metformin 1000 mg PO BID\",\"Glipizide 10 mg PO BID\",\"Tylenol 325 mg PO q 4 hours as needed for pain\"]}'}}], 'annotations': [], 'function_call': None}, 'finish_reason': 'tool_calls', 'provider_specific_fields': {}}], 'created': 1754760584, 'service_tier': 'default', 'system_fingerprint': 'fp_07871e2ad8'},)\n",
      "------------------------------\n",
      "<class 'tuple'>\n",
      "({'id': 'chatcmpl-C2hg37YtBBsqRpxQWkPxZjC6aO4yW', 'model': 'gpt-4o-2024-08-06', 'usage': {'total_tokens': 1301, 'prompt_tokens': 1101, 'completion_tokens': 200, 'prompt_tokens_details': {'text_tokens': None, 'audio_tokens': 0, 'image_tokens': None, 'cached_tokens': 1024}, 'completion_tokens_details': {'text_tokens': None, 'audio_tokens': 0, 'reasoning_tokens': 0, 'accepted_prediction_tokens': 0, 'rejected_prediction_tokens': 0}}, 'object': 'chat.completion', 'choices': [{'index': 0, 'message': {'role': 'assistant', 'content': None, 'tool_calls': [{'id': 'call_yFWAPQrA4b0JriWO1ocaqNQD', 'type': 'function', 'function': {'name': 'patient_record', 'arguments': '{\"medical_record_number\":\"123456789\",\"name\":\"John Doe\",\"age\":72,\"weight\":202,\"blood_pressure\":\"126/72\",\"date_admitted\":\"2050-07-01T00:00:00Z\",\"date_discharged\":\"2050-07-03T00:00:00Z\",\"attending_physician\":\"Dr. Will Teachwell\",\"diagnosis\":\"Left-sided systolic congestive heart failure\",\"other_diagnosis\":\"Type 2 Diabetes, Stage 2 Hypertension, Osteoarthritis\",\"current_medications\":[\"Metoprolol 50 mg PO BID\",\"Lisinopril 40 mg PO qd\",\"ASA 81 mg PO qd\",\"Furosemide 40 mg PO BID\",\"Spironolactone 50 mg PO qd\",\"Metformin 1000 mg PO BID\",\"Glipizide 10 mg PO BID\",\"Tylenol 325 mg PO q 4 hours as needed for pain\"]}'}}], 'annotations': [], 'function_call': None}, 'finish_reason': 'tool_calls', 'provider_specific_fields': {}}], 'created': 1754760587, 'service_tier': 'default', 'system_fingerprint': 'fp_07871e2ad8'},)\n",
      "------------------------------\n",
      "<class 'tuple'>\n",
      "({'id': 'chatcmpl-C2hhvHqFpcLlN4WqEf1h6VEyTrmBB', 'model': 'gpt-4o-2024-08-06', 'usage': {'total_tokens': 1298, 'prompt_tokens': 1101, 'completion_tokens': 197, 'prompt_tokens_details': {'text_tokens': None, 'audio_tokens': 0, 'image_tokens': None, 'cached_tokens': 1024}, 'completion_tokens_details': {'text_tokens': None, 'audio_tokens': 0, 'reasoning_tokens': 0, 'accepted_prediction_tokens': 0, 'rejected_prediction_tokens': 0}}, 'object': 'chat.completion', 'choices': [{'index': 0, 'message': {'role': 'assistant', 'content': None, 'tool_calls': [{'id': 'call_8yj2LAlmvIgbZAe3KxhL9cZz', 'type': 'function', 'function': {'name': 'patient_record', 'arguments': '{\"medical_record_number\":\"123456789\",\"name\":\"John Doe\",\"age\":72,\"weight\":202,\"blood_pressure\":\"126/72\",\"date_admitted\":\"2050-07-01T00:00:00\",\"date_discharged\":\"2050-07-03T00:00:00\",\"attending_physician\":\"Dr. Will Teachwell\",\"diagnosis\":\"Left-sided systolic congestive heart failure\",\"other_diagnosis\":\"Type 2 Diabetes, Stage 2 Hypertension, Osteoarthritis\",\"current_medications\":[\"Metorolol 50 mg PO BID\",\"Lisinopril 40 mg PO qd\",\"ASA 81 mg PO qd\",\"Furosemide 40 mg PO BID\",\"Spironolactone 50 mg PO qd\",\"Metformin 1000 mg PO BID\",\"Glipizide 10 mg PO BID\",\"Tylenol 325 mg PO q 4 hours as needed for pain\"]}'}}], 'annotations': [], 'function_call': None}, 'finish_reason': 'tool_calls', 'provider_specific_fields': {}}], 'created': 1754760703, 'service_tier': 'default', 'system_fingerprint': 'fp_07871e2ad8'},)\n",
      "------------------------------\n",
      "<class 'tuple'>\n",
      "({'id': 'chatcmpl-C2hhx2NAXZPBQ00jNk5eqRhVQEgSs', 'model': 'gpt-4o-2024-08-06', 'usage': {'total_tokens': 1298, 'prompt_tokens': 1101, 'completion_tokens': 197, 'prompt_tokens_details': {'text_tokens': None, 'audio_tokens': 0, 'image_tokens': None, 'cached_tokens': 1024}, 'completion_tokens_details': {'text_tokens': None, 'audio_tokens': 0, 'reasoning_tokens': 0, 'accepted_prediction_tokens': 0, 'rejected_prediction_tokens': 0}}, 'object': 'chat.completion', 'choices': [{'index': 0, 'message': {'role': 'assistant', 'content': None, 'tool_calls': [{'id': 'call_bIqiVsX12eox8rSlFnFzugYJ', 'type': 'function', 'function': {'name': 'patient_record', 'arguments': '{\"medical_record_number\":\"123456789\",\"name\":\"John Doe\",\"age\":72,\"weight\":202,\"blood_pressure\":\"126/72\",\"date_admitted\":\"2050-07-01T00:00:00\",\"date_discharged\":\"2050-07-03T00:00:00\",\"attending_physician\":\"Dr. Will Teachwell\",\"diagnosis\":\"Left-sided systolic congestive heart failure\",\"other_diagnosis\":\"Type 2 Diabetes, Stage 2 Hypertension, Osteoarthritis\",\"current_medications\":[\"Metorolol 50 mg PO BID\",\"Lisinopril 40 mg PO qd\",\"ASA 81 mg PO qd\",\"Furosemide 40 mg PO BID\",\"Spironolactone 50 mg PO qd\",\"Metformin 1000 mg PO BID\",\"Glipizide 10 mg PO BID\",\"Tylenol 325 mg PO q 4 hours as needed for pain\"]}'}}], 'annotations': [], 'function_call': None}, 'finish_reason': 'tool_calls', 'provider_specific_fields': {}}], 'created': 1754760705, 'service_tier': 'default', 'system_fingerprint': 'fp_07871e2ad8'},)\n",
      "------------------------------\n"
     ]
    }
   ],
   "source": [
    "db_string = \"dbname=play_db user=player password=higgybig host=hpmini port=5432\"\n",
    "with psycopg2.connect(db_string) as conn:\n",
    "    cur = conn.cursor()\n",
    "    cur.execute(\n",
    "        \"\"\"\n",
    "        SELECT raw_response\n",
    "        FROM responses;\n",
    "        \"\"\"\n",
    "    )\n",
    "    list_of_responses = cur.fetchall()\n",
    "\n",
    "    for resp in list_of_responses:\n",
    "        print(type(resp))\n",
    "        print(resp)\n",
    "        print('-'*30)\n",
    "    \n",
    "        \n"
   ]
  },
  {
   "cell_type": "code",
   "execution_count": 40,
   "id": "f3b300a6-099b-49fd-95b7-5256d74e2a9f",
   "metadata": {},
   "outputs": [
    {
     "name": "stdout",
     "output_type": "stream",
     "text": [
      "<class 'list'>\n"
     ]
    }
   ],
   "source": [
    "print(type(sample_json['choices']))"
   ]
  },
  {
   "cell_type": "code",
   "execution_count": 42,
   "id": "e6ec889f-df11-4930-963c-3bf6a645e1f2",
   "metadata": {},
   "outputs": [
    {
     "name": "stdout",
     "output_type": "stream",
     "text": [
      "<class 'str'>\n",
      "<class 'str'>\n",
      "<class 'str'>\n",
      "<class 'str'>\n"
     ]
    }
   ],
   "source": [
    "for item in sample_json['choices'][0]:\n",
    "    print(type(item))"
   ]
  },
  {
   "cell_type": "code",
   "execution_count": 57,
   "id": "c633391f-7985-4fa8-b4d1-899608461930",
   "metadata": {},
   "outputs": [],
   "source": [
    "response = json.loads(sample_json['choices'][0]['message']['tool_calls'][0]['function']['arguments'])\n"
   ]
  },
  {
   "cell_type": "code",
   "execution_count": 59,
   "id": "63358015-9613-47e5-aab5-5436fd02b8c2",
   "metadata": {},
   "outputs": [
    {
     "name": "stdout",
     "output_type": "stream",
     "text": [
      "------------------------------\n",
      "medical_record_number\n",
      "<class 'str'>\n",
      "123456789\n",
      "------------------------------\n",
      "name\n",
      "<class 'str'>\n",
      "John Doe\n",
      "------------------------------\n",
      "age\n",
      "<class 'int'>\n",
      "72\n",
      "------------------------------\n",
      "weight\n",
      "<class 'int'>\n",
      "202\n",
      "------------------------------\n",
      "blood_pressure\n",
      "<class 'str'>\n",
      "126/72\n",
      "------------------------------\n",
      "date_admitted\n",
      "<class 'str'>\n",
      "2050-07-01\n",
      "------------------------------\n",
      "date_discharged\n",
      "<class 'str'>\n",
      "2050-07-03\n",
      "------------------------------\n",
      "attending_physician\n",
      "<class 'str'>\n",
      "Dr. Will Teachwell\n",
      "------------------------------\n",
      "diagnosis\n",
      "<class 'str'>\n",
      "Left-sided systolic congestive heart failure\n",
      "------------------------------\n",
      "other_diagnosis\n",
      "<class 'list'>\n",
      "['Type 2 Diabetes', 'Stage 2 Hypertension', 'Osteoarthritis']\n",
      "------------------------------\n",
      "current_medications\n",
      "<class 'list'>\n",
      "['Metorolol 50 mg PO BID', 'Lisinopril 40 mg PO qd', 'ASA 81 mg PO qd', 'Furosemide 40 mg PO BID', 'Spironolactone 50 mg PO qd', 'Metformin 1000 mg PO BID', 'Glipizide 10 mg PO BID', 'Tylenol 325 mg PO q 4 hours as needed for pain']\n"
     ]
    }
   ],
   "source": [
    "for key, value in response.items():\n",
    "    print('-'*30)\n",
    "    print(key)\n",
    "    print(type(value))\n",
    "    print(value)"
   ]
  }
 ],
 "metadata": {
  "kernelspec": {
   "display_name": "Python (capstone)",
   "language": "python",
   "name": "capstone_env"
  },
  "language_info": {
   "codemirror_mode": {
    "name": "ipython",
    "version": 3
   },
   "file_extension": ".py",
   "mimetype": "text/x-python",
   "name": "python",
   "nbconvert_exporter": "python",
   "pygments_lexer": "ipython3",
   "version": "3.12.3"
  }
 },
 "nbformat": 4,
 "nbformat_minor": 5
}
