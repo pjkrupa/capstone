{
 "cells": [
  {
   "cell_type": "code",
   "execution_count": 7,
   "id": "a7f50f1b-e9a0-4601-bb65-1d1f339decf0",
   "metadata": {},
   "outputs": [],
   "source": [
    "import psycopg2, pprint, json"
   ]
  },
  {
   "cell_type": "code",
   "execution_count": 76,
   "id": "798efa18-f50d-4a35-b42d-0579096f165b",
   "metadata": {},
   "outputs": [
    {
     "name": "stdout",
     "output_type": "stream",
     "text": [
      "<class 'tuple'>\n",
      "(50,)\n",
      "------------------------------\n"
     ]
    }
   ],
   "source": [
    "db_string = \"dbname=play_db user=player password=higgybig host=hpmini port=5432\"\n",
    "with psycopg2.connect(db_string) as conn:\n",
    "    cur = conn.cursor()\n",
    "    cur.execute(\n",
    "        \"\"\"\n",
    "        SELECT COUNT(*)\n",
    "        FROM responses\n",
    "        WHERE passed_validation=True;\n",
    "        \"\"\"\n",
    "    )\n",
    "    list_of_responses = cur.fetchall()\n",
    "\n",
    "    for resp in list_of_responses:\n",
    "        print(type(resp))\n",
    "        print(resp)\n",
    "        print('-'*30)\n",
    "    \n",
    "        \n"
   ]
  },
  {
   "cell_type": "code",
   "execution_count": 62,
   "id": "61bbc82b-a2b4-49e5-90b9-18a92237ceb2",
   "metadata": {},
   "outputs": [
    {
     "name": "stdout",
     "output_type": "stream",
     "text": [
      "{'medical_record_number': '123456789', 'name': 'John Doe', 'age': 72, 'weight': 202, 'blood_pressure': '126/72', 'date_admitted': '2050-07-01T00:00:00', 'date_discharged': '2050-07-03T00:00:00', 'attending_physician': 'Dr. Will Teachwell', 'diagnosis': 'Left-sided systolic congestive heart failure', 'other_diagnosis': 'Type 2 Diabetes, Stage 2 Hypertension, Osteoarthritis', 'current_medications': ['Metorolol 50 mg PO BID', 'Lisinopril 40 mg PO qd', 'ASA 81 mg PO qd', 'Furosemide 40 mg PO BID', 'Spironolactone 50 mg PO qd', 'Metformin 1000 mg PO BID', 'Glipizide 10 mg PO BID', 'Tylenol 325 mg PO q 4 hours as needed for pain']}\n"
     ]
    }
   ],
   "source": [
    "my_json = json.loads(list_of_responses[7][0]['choices'][0]['message']['tool_calls'][0]['function']['arguments'])\n",
    "print(my_json)"
   ]
  },
  {
   "cell_type": "code",
   "execution_count": 66,
   "id": "1fee4c44-6ca3-4699-bf8f-fdb0127f0c45",
   "metadata": {},
   "outputs": [
    {
     "name": "stdout",
     "output_type": "stream",
     "text": [
      "<class 'str'>\n"
     ]
    }
   ],
   "source": [
    "print(type(my_json['date_admitted']))"
   ]
  },
  {
   "cell_type": "code",
   "execution_count": 64,
   "id": "4eae106f-eba2-4003-acf2-f95211f56ce9",
   "metadata": {},
   "outputs": [
    {
     "name": "stdout",
     "output_type": "stream",
     "text": [
      "medical_record_number\n",
      "name\n",
      "age\n",
      "weight\n",
      "blood_pressure\n",
      "date_admitted\n",
      "date_discharged\n",
      "attending_physician\n",
      "diagnosis\n",
      "other_diagnosis\n",
      "current_medications\n"
     ]
    }
   ],
   "source": [
    "for key, value in my_json.items():\n",
    "    print(key)"
   ]
  },
  {
   "cell_type": "code",
   "execution_count": 63,
   "id": "44b9defe-c565-4a2b-ab92-b164991646b6",
   "metadata": {},
   "outputs": [
    {
     "name": "stdout",
     "output_type": "stream",
     "text": [
      "<class 'dict'>\n"
     ]
    }
   ],
   "source": [
    "print(type(my_json))"
   ]
  },
  {
   "cell_type": "code",
   "execution_count": 40,
   "id": "f3b300a6-099b-49fd-95b7-5256d74e2a9f",
   "metadata": {},
   "outputs": [
    {
     "name": "stdout",
     "output_type": "stream",
     "text": [
      "<class 'list'>\n"
     ]
    }
   ],
   "source": [
    "print(type(sample_json['choices']))"
   ]
  },
  {
   "cell_type": "code",
   "execution_count": 42,
   "id": "e6ec889f-df11-4930-963c-3bf6a645e1f2",
   "metadata": {},
   "outputs": [
    {
     "name": "stdout",
     "output_type": "stream",
     "text": [
      "<class 'str'>\n",
      "<class 'str'>\n",
      "<class 'str'>\n",
      "<class 'str'>\n"
     ]
    }
   ],
   "source": [
    "for item in sample_json['choices'][0]:\n",
    "    print(type(item))"
   ]
  },
  {
   "cell_type": "code",
   "execution_count": 57,
   "id": "c633391f-7985-4fa8-b4d1-899608461930",
   "metadata": {},
   "outputs": [],
   "source": [
    "response = json.loads(sample_json['choices'][0]['message']['tool_calls'][0]['function']['arguments'])\n"
   ]
  },
  {
   "cell_type": "code",
   "execution_count": 59,
   "id": "63358015-9613-47e5-aab5-5436fd02b8c2",
   "metadata": {},
   "outputs": [
    {
     "name": "stdout",
     "output_type": "stream",
     "text": [
      "------------------------------\n",
      "medical_record_number\n",
      "<class 'str'>\n",
      "123456789\n",
      "------------------------------\n",
      "name\n",
      "<class 'str'>\n",
      "John Doe\n",
      "------------------------------\n",
      "age\n",
      "<class 'int'>\n",
      "72\n",
      "------------------------------\n",
      "weight\n",
      "<class 'int'>\n",
      "202\n",
      "------------------------------\n",
      "blood_pressure\n",
      "<class 'str'>\n",
      "126/72\n",
      "------------------------------\n",
      "date_admitted\n",
      "<class 'str'>\n",
      "2050-07-01\n",
      "------------------------------\n",
      "date_discharged\n",
      "<class 'str'>\n",
      "2050-07-03\n",
      "------------------------------\n",
      "attending_physician\n",
      "<class 'str'>\n",
      "Dr. Will Teachwell\n",
      "------------------------------\n",
      "diagnosis\n",
      "<class 'str'>\n",
      "Left-sided systolic congestive heart failure\n",
      "------------------------------\n",
      "other_diagnosis\n",
      "<class 'list'>\n",
      "['Type 2 Diabetes', 'Stage 2 Hypertension', 'Osteoarthritis']\n",
      "------------------------------\n",
      "current_medications\n",
      "<class 'list'>\n",
      "['Metorolol 50 mg PO BID', 'Lisinopril 40 mg PO qd', 'ASA 81 mg PO qd', 'Furosemide 40 mg PO BID', 'Spironolactone 50 mg PO qd', 'Metformin 1000 mg PO BID', 'Glipizide 10 mg PO BID', 'Tylenol 325 mg PO q 4 hours as needed for pain']\n"
     ]
    }
   ],
   "source": [
    "for key, value in response.items():\n",
    "    print('-'*30)\n",
    "    print(key)\n",
    "    print(type(value))\n",
    "    print(value)"
   ]
  },
  {
   "cell_type": "code",
   "execution_count": 67,
   "id": "9543d5f7-a4e2-4e68-abd3-c5b56e2756ab",
   "metadata": {},
   "outputs": [],
   "source": [
    "def drop_table(database):\n",
    "    with psycopg2.connect(database) as conn:\n",
    "        cur = conn.cursor()\n",
    "        cur.execute(\n",
    "            \"\"\"\n",
    "            DROP TABLE responses;\n",
    "            \"\"\"\n",
    "        )"
   ]
  },
  {
   "cell_type": "code",
   "execution_count": 75,
   "id": "633220e7-e980-49cc-90c2-7fd5f4a3c7cf",
   "metadata": {},
   "outputs": [],
   "source": [
    "drop_table(db_string)"
   ]
  }
 ],
 "metadata": {
  "kernelspec": {
   "display_name": "Python (capstone)",
   "language": "python",
   "name": "capstone_env"
  },
  "language_info": {
   "codemirror_mode": {
    "name": "ipython",
    "version": 3
   },
   "file_extension": ".py",
   "mimetype": "text/x-python",
   "name": "python",
   "nbconvert_exporter": "python",
   "pygments_lexer": "ipython3",
   "version": "3.12.3"
  }
 },
 "nbformat": 4,
 "nbformat_minor": 5
}
