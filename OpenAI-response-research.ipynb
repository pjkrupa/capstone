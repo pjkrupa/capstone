{
 "cells": [
  {
   "cell_type": "code",
   "execution_count": 1,
   "id": "a7f50f1b-e9a0-4601-bb65-1d1f339decf0",
   "metadata": {},
   "outputs": [],
   "source": [
    "import psycopg2, pprint, json\n",
    "from pprint import pprint"
   ]
  },
  {
   "cell_type": "code",
   "execution_count": 15,
   "id": "798efa18-f50d-4a35-b42d-0579096f165b",
   "metadata": {},
   "outputs": [
    {
     "name": "stdout",
     "output_type": "stream",
     "text": [
      "({'date_admitted': {'message': \"'2050-07-01T00:00:00Z' is not one of ['2050-07-01T00:00:00']\", 'validator': 'enum', 'validator_value': ['2050-07-01T00:00:00']}, 'date_discharged': {'message': \"'2050-07-03T00:00:00Z' is not one of ['2050-07-03T00:00:00']\", 'validator': 'enum', 'validator_value': ['2050-07-03T00:00:00']}},)\n",
      "({'date_admitted': {'message': \"'2050-07-01T00:00:00Z' is not one of ['2050-07-01T00:00:00']\", 'validator': 'enum', 'validator_value': ['2050-07-01T00:00:00']}, 'date_discharged': {'message': \"'2050-07-03T00:00:00Z' is not one of ['2050-07-03T00:00:00']\", 'validator': 'enum', 'validator_value': ['2050-07-03T00:00:00']}},)\n",
      "({'date_admitted': {'message': \"'2050-07-01T00:00:00Z' is not one of ['2050-07-01T00:00:00']\", 'validator': 'enum', 'validator_value': ['2050-07-01T00:00:00']}, 'date_discharged': {'message': \"'2050-07-03T00:00:00Z' is not one of ['2050-07-03T00:00:00']\", 'validator': 'enum', 'validator_value': ['2050-07-03T00:00:00']}},)\n",
      "({'date_admitted': {'message': \"'2050-07-01T00:00:00Z' is not one of ['2050-07-01T00:00:00']\", 'validator': 'enum', 'validator_value': ['2050-07-01T00:00:00']}, 'date_discharged': {'message': \"'2050-07-03T00:00:00Z' is not one of ['2050-07-03T00:00:00']\", 'validator': 'enum', 'validator_value': ['2050-07-03T00:00:00']}},)\n",
      "({'diagnosis': {'message': \"'Left-sided systolic congestive heart failure (EF of 35%)' is not one of ['Left-sided systolic congestive heart failure']\", 'validator': 'enum', 'validator_value': ['Left-sided systolic congestive heart failure']}, 'date_admitted': {'message': \"'2050-07-01T00:00:00Z' is not one of ['2050-07-01T00:00:00']\", 'validator': 'enum', 'validator_value': ['2050-07-01T00:00:00']}, 'date_discharged': {'message': \"'2050-07-03T00:00:00Z' is not one of ['2050-07-03T00:00:00']\", 'validator': 'enum', 'validator_value': ['2050-07-03T00:00:00']}},)\n",
      "({'date_admitted': {'message': \"'2050-07-01T00:00:00Z' is not one of ['2050-07-01T00:00:00']\", 'validator': 'enum', 'validator_value': ['2050-07-01T00:00:00']}, 'date_discharged': {'message': \"'2050-07-03T00:00:00Z' is not one of ['2050-07-03T00:00:00']\", 'validator': 'enum', 'validator_value': ['2050-07-03T00:00:00']}},)\n",
      "({'date_admitted': {'message': \"'2050-07-01T00:00:00Z' is not one of ['2050-07-01T00:00:00']\", 'validator': 'enum', 'validator_value': ['2050-07-01T00:00:00']}, 'date_discharged': {'message': \"'2050-07-03T00:00:00Z' is not one of ['2050-07-03T00:00:00']\", 'validator': 'enum', 'validator_value': ['2050-07-03T00:00:00']}},)\n",
      "({'date_admitted': {'message': \"'2050-07-01T00:00:00Z' is not one of ['2050-07-01T00:00:00']\", 'validator': 'enum', 'validator_value': ['2050-07-01T00:00:00']}, 'date_discharged': {'message': \"'2050-07-03T00:00:00Z' is not one of ['2050-07-03T00:00:00']\", 'validator': 'enum', 'validator_value': ['2050-07-03T00:00:00']}},)\n",
      "({'date_admitted': {'message': \"'2050-07-01T00:00:00Z' is not one of ['2050-07-01T00:00:00']\", 'validator': 'enum', 'validator_value': ['2050-07-01T00:00:00']}, 'date_discharged': {'message': \"'2050-07-03T00:00:00Z' is not one of ['2050-07-03T00:00:00']\", 'validator': 'enum', 'validator_value': ['2050-07-03T00:00:00']}},)\n",
      "({'date_admitted': {'message': \"'2050-07-01T00:00:00Z' is not one of ['2050-07-01T00:00:00']\", 'validator': 'enum', 'validator_value': ['2050-07-01T00:00:00']}, 'date_discharged': {'message': \"'2050-07-03T00:00:00Z' is not one of ['2050-07-03T00:00:00']\", 'validator': 'enum', 'validator_value': ['2050-07-03T00:00:00']}},)\n",
      "({'date_admitted': {'message': \"'2050-07-01T00:00:00Z' is not one of ['2050-07-01T00:00:00']\", 'validator': 'enum', 'validator_value': ['2050-07-01T00:00:00']}, 'date_discharged': {'message': \"'2050-07-03T00:00:00Z' is not one of ['2050-07-03T00:00:00']\", 'validator': 'enum', 'validator_value': ['2050-07-03T00:00:00']}},)\n",
      "({'blood_pressure': {'message': \"'142/82' is not one of ['126/72']\", 'validator': 'enum', 'validator_value': ['126/72']}},)\n",
      "({'date_admitted': {'message': \"'2050-07-01T00:00:00Z' is not one of ['2050-07-01T00:00:00']\", 'validator': 'enum', 'validator_value': ['2050-07-01T00:00:00']}, 'date_discharged': {'message': \"'2050-07-03T00:00:00Z' is not one of ['2050-07-03T00:00:00']\", 'validator': 'enum', 'validator_value': ['2050-07-03T00:00:00']}},)\n",
      "({'date_admitted': {'message': \"'2050-07-01T00:00:00Z' is not one of ['2050-07-01T00:00:00']\", 'validator': 'enum', 'validator_value': ['2050-07-01T00:00:00']}, 'date_discharged': {'message': \"'2050-07-03T00:00:00Z' is not one of ['2050-07-03T00:00:00']\", 'validator': 'enum', 'validator_value': ['2050-07-03T00:00:00']}},)\n",
      "({'date_admitted': {'message': \"'2050-07-01T00:00:00Z' is not one of ['2050-07-01T00:00:00']\", 'validator': 'enum', 'validator_value': ['2050-07-01T00:00:00']}, 'date_discharged': {'message': \"'2050-07-03T00:00:00Z' is not one of ['2050-07-03T00:00:00']\", 'validator': 'enum', 'validator_value': ['2050-07-03T00:00:00']}},)\n",
      "({'date_admitted': {'message': \"'2050-07-01T00:00:00Z' is not one of ['2050-07-01T00:00:00']\", 'validator': 'enum', 'validator_value': ['2050-07-01T00:00:00']}, 'date_discharged': {'message': \"'2050-07-03T00:00:00Z' is not one of ['2050-07-03T00:00:00']\", 'validator': 'enum', 'validator_value': ['2050-07-03T00:00:00']}},)\n",
      "({'date_admitted': {'message': \"'2050-07-01T00:00:00Z' is not one of ['2050-07-01T00:00:00']\", 'validator': 'enum', 'validator_value': ['2050-07-01T00:00:00']}, 'date_discharged': {'message': \"'2050-07-03T00:00:00Z' is not one of ['2050-07-03T00:00:00']\", 'validator': 'enum', 'validator_value': ['2050-07-03T00:00:00']}},)\n",
      "({'date_admitted': {'message': \"'2050-07-01T00:00:00Z' is not one of ['2050-07-01T00:00:00']\", 'validator': 'enum', 'validator_value': ['2050-07-01T00:00:00']}, 'date_discharged': {'message': \"'2050-07-03T00:00:00Z' is not one of ['2050-07-03T00:00:00']\", 'validator': 'enum', 'validator_value': ['2050-07-03T00:00:00']}},)\n"
     ]
    }
   ],
   "source": [
    "db_string = \"dbname=play_db user=player password=higgybig host=hpmini port=5432\"\n",
    "with psycopg2.connect(db_string) as conn:\n",
    "    cur = conn.cursor()\n",
    "    cur.execute(\n",
    "        \"\"\"\n",
    "        SELECT validation_errors\n",
    "        FROM responses\n",
    "        WHERE passed_validation = FALSE;\n",
    "        \"\"\"\n",
    "    )\n",
    "    json_errors = cur.fetchall()\n",
    "    \n",
    "    for error in json_errors:\n",
    "        print(error)\n",
    "    \n",
    "    \n",
    "        \n"
   ]
  },
  {
   "cell_type": "code",
   "execution_count": 19,
   "id": "749a5125",
   "metadata": {
    "collapsed": true
   },
   "outputs": [
    {
     "name": "stdout",
     "output_type": "stream",
     "text": [
      "date_admitted\n",
      "date_discharged\n",
      "date_admitted\n",
      "date_discharged\n",
      "date_admitted\n",
      "date_discharged\n",
      "date_admitted\n",
      "date_discharged\n",
      "diagnosis\n",
      "date_admitted\n",
      "date_discharged\n",
      "date_admitted\n",
      "date_discharged\n",
      "date_admitted\n",
      "date_discharged\n",
      "date_admitted\n",
      "date_discharged\n",
      "date_admitted\n",
      "date_discharged\n",
      "date_admitted\n",
      "date_discharged\n",
      "date_admitted\n",
      "date_discharged\n",
      "blood_pressure\n",
      "date_admitted\n",
      "date_discharged\n",
      "date_admitted\n",
      "date_discharged\n",
      "date_admitted\n",
      "date_discharged\n",
      "date_admitted\n",
      "date_discharged\n",
      "date_admitted\n",
      "date_discharged\n",
      "date_admitted\n",
      "date_discharged\n"
     ]
    }
   ],
   "source": [
    "for error in json_errors:\n",
    "    test_dict = error[0]\n",
    "    for key, value in test_dict.items():\n",
    "        if key not in ['validator_value', 'validator']:\n",
    "            print(key)"
   ]
  },
  {
   "cell_type": "code",
   "execution_count": 20,
   "id": "fe463428",
   "metadata": {},
   "outputs": [
    {
     "name": "stdout",
     "output_type": "stream",
     "text": [
      "{'message': \"'Left-sided systolic congestive heart failure (EF of 35%)' is not one of ['Left-sided systolic congestive heart failure']\", 'validator': 'enum', 'validator_value': ['Left-sided systolic congestive heart failure']}\n"
     ]
    }
   ],
   "source": [
    "for error in json_errors:\n",
    "    test_dict = error[0]\n",
    "    for key, value in test_dict.items():\n",
    "        if key == \"diagnosis\":\n",
    "            print(value)"
   ]
  },
  {
   "cell_type": "code",
   "execution_count": 62,
   "id": "61bbc82b-a2b4-49e5-90b9-18a92237ceb2",
   "metadata": {},
   "outputs": [
    {
     "name": "stdout",
     "output_type": "stream",
     "text": [
      "{'medical_record_number': '123456789', 'name': 'John Doe', 'age': 72, 'weight': 202, 'blood_pressure': '126/72', 'date_admitted': '2050-07-01T00:00:00', 'date_discharged': '2050-07-03T00:00:00', 'attending_physician': 'Dr. Will Teachwell', 'diagnosis': 'Left-sided systolic congestive heart failure', 'other_diagnosis': 'Type 2 Diabetes, Stage 2 Hypertension, Osteoarthritis', 'current_medications': ['Metorolol 50 mg PO BID', 'Lisinopril 40 mg PO qd', 'ASA 81 mg PO qd', 'Furosemide 40 mg PO BID', 'Spironolactone 50 mg PO qd', 'Metformin 1000 mg PO BID', 'Glipizide 10 mg PO BID', 'Tylenol 325 mg PO q 4 hours as needed for pain']}\n"
     ]
    }
   ],
   "source": [
    "my_json = json.loads(list_of_responses[7][0]['choices'][0]['message']['tool_calls'][0]['function']['arguments'])\n",
    "print(my_json)"
   ]
  },
  {
   "cell_type": "code",
   "execution_count": 66,
   "id": "1fee4c44-6ca3-4699-bf8f-fdb0127f0c45",
   "metadata": {},
   "outputs": [
    {
     "name": "stdout",
     "output_type": "stream",
     "text": [
      "<class 'str'>\n"
     ]
    }
   ],
   "source": [
    "print(type(my_json['date_admitted']))"
   ]
  },
  {
   "cell_type": "code",
   "execution_count": 64,
   "id": "4eae106f-eba2-4003-acf2-f95211f56ce9",
   "metadata": {},
   "outputs": [
    {
     "name": "stdout",
     "output_type": "stream",
     "text": [
      "medical_record_number\n",
      "name\n",
      "age\n",
      "weight\n",
      "blood_pressure\n",
      "date_admitted\n",
      "date_discharged\n",
      "attending_physician\n",
      "diagnosis\n",
      "other_diagnosis\n",
      "current_medications\n"
     ]
    }
   ],
   "source": [
    "for key, value in my_json.items():\n",
    "    print(key)"
   ]
  },
  {
   "cell_type": "code",
   "execution_count": 63,
   "id": "44b9defe-c565-4a2b-ab92-b164991646b6",
   "metadata": {},
   "outputs": [
    {
     "name": "stdout",
     "output_type": "stream",
     "text": [
      "<class 'dict'>\n"
     ]
    }
   ],
   "source": [
    "print(type(my_json))"
   ]
  },
  {
   "cell_type": "code",
   "execution_count": 40,
   "id": "f3b300a6-099b-49fd-95b7-5256d74e2a9f",
   "metadata": {},
   "outputs": [
    {
     "name": "stdout",
     "output_type": "stream",
     "text": [
      "<class 'list'>\n"
     ]
    }
   ],
   "source": [
    "print(type(sample_json['choices']))"
   ]
  },
  {
   "cell_type": "code",
   "execution_count": 42,
   "id": "e6ec889f-df11-4930-963c-3bf6a645e1f2",
   "metadata": {},
   "outputs": [
    {
     "name": "stdout",
     "output_type": "stream",
     "text": [
      "<class 'str'>\n",
      "<class 'str'>\n",
      "<class 'str'>\n",
      "<class 'str'>\n"
     ]
    }
   ],
   "source": [
    "for item in sample_json['choices'][0]:\n",
    "    print(type(item))"
   ]
  },
  {
   "cell_type": "code",
   "execution_count": 57,
   "id": "c633391f-7985-4fa8-b4d1-899608461930",
   "metadata": {},
   "outputs": [],
   "source": [
    "response = json.loads(sample_json['choices'][0]['message']['tool_calls'][0]['function']['arguments'])\n"
   ]
  },
  {
   "cell_type": "code",
   "execution_count": 59,
   "id": "63358015-9613-47e5-aab5-5436fd02b8c2",
   "metadata": {},
   "outputs": [
    {
     "name": "stdout",
     "output_type": "stream",
     "text": [
      "------------------------------\n",
      "medical_record_number\n",
      "<class 'str'>\n",
      "123456789\n",
      "------------------------------\n",
      "name\n",
      "<class 'str'>\n",
      "John Doe\n",
      "------------------------------\n",
      "age\n",
      "<class 'int'>\n",
      "72\n",
      "------------------------------\n",
      "weight\n",
      "<class 'int'>\n",
      "202\n",
      "------------------------------\n",
      "blood_pressure\n",
      "<class 'str'>\n",
      "126/72\n",
      "------------------------------\n",
      "date_admitted\n",
      "<class 'str'>\n",
      "2050-07-01\n",
      "------------------------------\n",
      "date_discharged\n",
      "<class 'str'>\n",
      "2050-07-03\n",
      "------------------------------\n",
      "attending_physician\n",
      "<class 'str'>\n",
      "Dr. Will Teachwell\n",
      "------------------------------\n",
      "diagnosis\n",
      "<class 'str'>\n",
      "Left-sided systolic congestive heart failure\n",
      "------------------------------\n",
      "other_diagnosis\n",
      "<class 'list'>\n",
      "['Type 2 Diabetes', 'Stage 2 Hypertension', 'Osteoarthritis']\n",
      "------------------------------\n",
      "current_medications\n",
      "<class 'list'>\n",
      "['Metorolol 50 mg PO BID', 'Lisinopril 40 mg PO qd', 'ASA 81 mg PO qd', 'Furosemide 40 mg PO BID', 'Spironolactone 50 mg PO qd', 'Metformin 1000 mg PO BID', 'Glipizide 10 mg PO BID', 'Tylenol 325 mg PO q 4 hours as needed for pain']\n"
     ]
    }
   ],
   "source": [
    "for key, value in response.items():\n",
    "    print('-'*30)\n",
    "    print(key)\n",
    "    print(type(value))\n",
    "    print(value)"
   ]
  },
  {
   "cell_type": "code",
   "execution_count": 6,
   "id": "9543d5f7-a4e2-4e68-abd3-c5b56e2756ab",
   "metadata": {},
   "outputs": [],
   "source": [
    "def drop_table(database):\n",
    "    with psycopg2.connect(database) as conn:\n",
    "        cur = conn.cursor()\n",
    "        cur.execute(\n",
    "            \"\"\"\n",
    "            DROP TABLE responses;\n",
    "            \"\"\"\n",
    "        )"
   ]
  },
  {
   "cell_type": "code",
   "execution_count": 11,
   "id": "633220e7-e980-49cc-90c2-7fd5f4a3c7cf",
   "metadata": {},
   "outputs": [],
   "source": [
    "drop_table(db_string)"
   ]
  },
  {
   "cell_type": "code",
   "execution_count": 3,
   "id": "7d7a25a2",
   "metadata": {},
   "outputs": [
    {
     "name": "stdout",
     "output_type": "stream",
     "text": [
      "{'$schema': 'http://json-schema.org/draft-07/schema#',\n",
      " 'additionalProperties': False,\n",
      " 'properties': {'age': {'enum': [72], 'minimum': 0, 'type': 'integer'},\n",
      "                'attending_physician': {'enum': ['Dr. Will Teachwell'],\n",
      "                                        'type': 'string'},\n",
      "                'blood_pressure': {'description': 'Blood pressure reading as '\n",
      "                                                  'systolic/diastolic',\n",
      "                                   'enum': ['126/72'],\n",
      "                                   'pattern': '^[0-9]{2,3}/[0-9]{2,3}$',\n",
      "                                   'type': 'string'},\n",
      "                'current_medications': {'enum': [['Metorolol 50 mg PO BID',\n",
      "                                                  'Lisinopril 40 mg PO qd',\n",
      "                                                  'ASA 81 mg PO qd',\n",
      "                                                  'Furosemide 40 mg PO BID',\n",
      "                                                  'Spironolactone 50 mg PO qd',\n",
      "                                                  'Metformin 1000 mg PO BID',\n",
      "                                                  'Glipizide 10 mg PO BID',\n",
      "                                                  'Tylenol 325 mg PO q 4 hours '\n",
      "                                                  'as needed for pain']],\n",
      "                                        'items': {'type': 'string'},\n",
      "                                        'type': 'array'},\n",
      "                'date_admitted': {'enum': ['2050-07-01T00:00:00'],\n",
      "                                  'format': 'date-time',\n",
      "                                  'type': 'string'},\n",
      "                'date_discharged': {'enum': ['2050-07-03T00:00:00'],\n",
      "                                    'format': 'date-time',\n",
      "                                    'type': 'string'},\n",
      "                'diagnosis': {'enum': ['Left-sided systolic congestive heart '\n",
      "                                       'failure'],\n",
      "                              'type': 'string'},\n",
      "                'medical_record_number': {'description': 'Unique patient '\n",
      "                                                         'medical record '\n",
      "                                                         'identifier',\n",
      "                                          'enum': ['123456789'],\n",
      "                                          'type': 'string'},\n",
      "                'other_diagnosis': {'enum': ['Type 2 Diabetes, Stage 2 '\n",
      "                                             'Hypertension, Osteoarthritis'],\n",
      "                                    'type': 'string'},\n",
      "                'patient_name': {'description': 'Full name of the patient',\n",
      "                                 'enum': ['John Doe'],\n",
      "                                 'type': 'string'},\n",
      "                'weight': {'enum': [202], 'minimum': 0, 'type': 'number'}},\n",
      " 'required': ['medical_record_number',\n",
      "              'patient_name',\n",
      "              'age',\n",
      "              'weight',\n",
      "              'blood_pressure',\n",
      "              'date_admitted',\n",
      "              'date_discharged',\n",
      "              'attending_physician',\n",
      "              'diagnosis',\n",
      "              'other_diagnosis',\n",
      "              'current_medications'],\n",
      " 'type': 'object'}\n"
     ]
    }
   ],
   "source": [
    "schema = {'$schema': 'http://json-schema.org/draft-07/schema#', 'type': 'object', 'properties': {'medical_record_number': {'type': 'string', 'description': 'Unique patient medical record identifier', 'enum': ['123456789']}, 'patient_name': {'type': 'string', 'description': 'Full name of the patient', 'enum': ['John Doe']}, 'age': {'type': 'integer', 'minimum': 0, 'enum': [72]}, 'weight': {'type': 'number', 'minimum': 0, 'enum': [202]}, 'blood_pressure': {'type': 'string', 'pattern': '^[0-9]{2,3}/[0-9]{2,3}$', 'description': 'Blood pressure reading as systolic/diastolic', 'enum': ['126/72']}, 'date_admitted': {'type': 'string', 'format': 'date-time', 'enum': ['2050-07-01T00:00:00']}, 'date_discharged': {'type': 'string', 'format': 'date-time', 'enum': ['2050-07-03T00:00:00']}, 'attending_physician': {'type': 'string', 'enum': ['Dr. Will Teachwell']}, 'diagnosis': {'type': 'string', 'enum': ['Left-sided systolic congestive heart failure']}, 'other_diagnosis': {'type': 'string', 'enum': ['Type 2 Diabetes, Stage 2 Hypertension, Osteoarthritis']}, 'current_medications': {'type': 'array', 'items': {'type': 'string'}, 'enum': [['Metorolol 50 mg PO BID', 'Lisinopril 40 mg PO qd', 'ASA 81 mg PO qd', 'Furosemide 40 mg PO BID', 'Spironolactone 50 mg PO qd', 'Metformin 1000 mg PO BID', 'Glipizide 10 mg PO BID', 'Tylenol 325 mg PO q 4 hours as needed for pain']]}}, 'required': ['medical_record_number', 'patient_name', 'age', 'weight', 'blood_pressure', 'date_admitted', 'date_discharged', 'attending_physician', 'diagnosis', 'other_diagnosis', 'current_medications'], 'additionalProperties': False}\n",
    "\n",
    "pprint(schema)"
   ]
  }
 ],
 "metadata": {
  "kernelspec": {
   "display_name": "Python (capstone)",
   "language": "python",
   "name": "capstone_env"
  },
  "language_info": {
   "codemirror_mode": {
    "name": "ipython",
    "version": 3
   },
   "file_extension": ".py",
   "mimetype": "text/x-python",
   "name": "python",
   "nbconvert_exporter": "python",
   "pygments_lexer": "ipython3",
   "version": "3.12.3"
  }
 },
 "nbformat": 4,
 "nbformat_minor": 5
}
